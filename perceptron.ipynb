{
  "nbformat": 4,
  "nbformat_minor": 0,
  "metadata": {
    "colab": {
      "provenance": [],
      "authorship_tag": "ABX9TyM/0KKBd+oaknxakkA7Wmr1",
      "include_colab_link": true
    },
    "kernelspec": {
      "name": "python3",
      "display_name": "Python 3"
    },
    "language_info": {
      "name": "python"
    }
  },
  "cells": [
    {
      "cell_type": "markdown",
      "metadata": {
        "id": "view-in-github",
        "colab_type": "text"
      },
      "source": [
        "<a href=\"https://colab.research.google.com/github/apgstocks/Implementation/blob/main/perceptron.ipynb\" target=\"_parent\"><img src=\"https://colab.research.google.com/assets/colab-badge.svg\" alt=\"Open In Colab\"/></a>"
      ]
    },
    {
      "cell_type": "code",
      "source": [
        "import numpy as np"
      ],
      "metadata": {
        "id": "jaYgEXArk8J_"
      },
      "execution_count": null,
      "outputs": []
    },
    {
      "cell_type": "code",
      "execution_count": 1,
      "metadata": {
        "id": "FCLHmY5ajrsu"
      },
      "outputs": [],
      "source": [
        "class perceptron:\n",
        "\n",
        "  def __init__(self,eta=0.1,n_iter=50,random_state=1):\n",
        "    self.eta=eta\n",
        "    self.n_iter=n_iter\n",
        "    self.random_state=random_state\n",
        "    self.w=None\n",
        "    self.b=None\n",
        "    self.error=None\n",
        "\n",
        "  def fit(self,x,y):\n",
        "    #Update method\n",
        "    rn=np.random.RandomState()\n",
        "    self.w=rn.random(loc=0.0,std=0.01,size=x.shape[1])\n",
        "    self.b=0.0\n",
        "    for n in range(self.n_iter):\n",
        "      error=0\n",
        "      for i,j in zip(x,y):\n",
        "        update=(j-self.predict(i))\n",
        "        self.w+=self.eta*update*i\n",
        "        self.b+=self.eta*update\n",
        "        self.error=int(update!=0)\n",
        "      error+=self.error\n",
        "    return self\n",
        "\n",
        "  def input_formula(self,x):\n",
        "    return np.dot(self.w,x)+self.b\n",
        "\n",
        "\n",
        "  def predict(self,x):\n",
        "    return np.where(self.input_formula(x)>0,1,0)"
      ]
    },
    {
      "cell_type": "code",
      "source": [],
      "metadata": {
        "id": "FP3PKKK8j8aB"
      },
      "execution_count": null,
      "outputs": []
    }
  ]
}